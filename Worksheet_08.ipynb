{
 "cells": [
  {
   "cell_type": "markdown",
   "id": "a6600f5b-78b9-4b16-9608-4149a81d64cf",
   "metadata": {},
   "source": [
    "## Statistics 2780A - Statistical Inference ##\n",
    "## Fall 2024 #\n",
    "## Tutorial 8 #\n",
    "October 30, 2024"
   ]
  },
  {
   "cell_type": "markdown",
   "id": "da6ed74c-2c0b-4cdf-bc45-c28475b8a976",
   "metadata": {},
   "source": [
    "1. The optimal value of LDL (low-density lipoprotein) cholesterol level is below 100 (milligrams per decilitre  - mg/dL). The following data give the LDL cholesterol levels of a group of young adults.  \n",
    "`91 105 98 98 98 107 101 101 94 96 103 109 105 103 95 97 95 91 104 107`   \n",
    "Suppose that $\\mu$ is the mean of the population from which the young adults have been selected. Assume that the population is normally distributed with known SD of 35.\n",
    "    1. Test at the 3% level of significance if the mean of the population $\\mu$ is an optimal value.\n",
    "    2. Find the p-value of the test.\n",
    "    3. Estimate a 97% random bound for the true mean $\\mu$.\n",
    "\n",
    "What is the conclusion in each situation regarding the null hypothesis?"
   ]
  },
  {
   "cell_type": "code",
   "execution_count": null,
   "id": "db01016b-0e17-4839-8e6d-00f5bb8a6fec",
   "metadata": {},
   "outputs": [],
   "source": [
    "# answer"
   ]
  },
  {
   "cell_type": "markdown",
   "id": "1bc92999-bb2e-43f5-8d5f-d2a014b80d49",
   "metadata": {},
   "source": [
    "2. Two random samples from two normal populations, means $\\mu_1$ and $\\mu_2$, respectively, produced the following data:   \n",
    "Sample I: `40 26 37 44 25 35 35 43 39 29 34 43 34 42 29 38`   \n",
    "Sample II: `51 40 29 47 43 36 47 38 40 26 26 38 37 27 34 35`   \n",
    "\n",
    "    1. Estimate the sample mean of the sample I and sample II.\n",
    "    2. Use the estimated sample mean of the sample II at null value $\\mu_0$. Test at the 2% level of significance if the mean of the first population is significantly different from the null value.\n",
    "    3. Compute the p-value of the test.\n",
    "    4. Estimate a 98% confidence interval for the true mean of the first population.\n",
    "\n",
    "What is the conclusion in each situation regarding the null hypothesis? What if we test the hypothesis using the data from sample II instead of sample I?"
   ]
  },
  {
   "cell_type": "code",
   "execution_count": null,
   "id": "4a99c99a-9563-4781-8009-22207b092d1a",
   "metadata": {},
   "outputs": [],
   "source": [
    "# answer"
   ]
  },
  {
   "cell_type": "markdown",
   "id": "9824b5b4-700d-47fd-932e-baf11a2b11d7",
   "metadata": {},
   "source": [
    "3. The dataset $\\texttt{Puromycin}$ in $\\texttt{datasets}$ contains data on the reaction velocity versus substrate concentration in an enzymatic reaction involving untreated cells or cells treated with Puromycin. We focus on the concentrations in the treated group and untreated group:   \n",
    "   `x <- Puromycin$conc[Puromycin$state==\"treated\"]`\n",
    "   `y <- Puromycin$conc[Puromycin$state==\"untreated\"]`\n",
    "   Assuming normal population, perform a two-sample t-test at 5% level to detect a significant difference between the means of the two groups, if:\n",
    "   1. The variance is constant in each group.\n",
    "   2. The variance is different for each group."
   ]
  },
  {
   "cell_type": "code",
   "execution_count": null,
   "id": "2e715ccf-36e4-417a-9705-3639fcddef98",
   "metadata": {},
   "outputs": [],
   "source": [
    "# answer"
   ]
  }
 ],
 "metadata": {
  "kernelspec": {
   "display_name": "R",
   "language": "R",
   "name": "ir"
  },
  "language_info": {
   "codemirror_mode": "r",
   "file_extension": ".r",
   "mimetype": "text/x-r-source",
   "name": "R",
   "pygments_lexer": "r",
   "version": "4.3.3"
  }
 },
 "nbformat": 4,
 "nbformat_minor": 5
}
